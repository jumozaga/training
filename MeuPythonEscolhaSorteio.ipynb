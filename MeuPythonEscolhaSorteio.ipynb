{
  "nbformat": 4,
  "nbformat_minor": 0,
  "metadata": {
    "colab": {
      "provenance": []
    },
    "kernelspec": {
      "name": "python3",
      "display_name": "Python 3"
    },
    "language_info": {
      "name": "python"
    }
  },
  "cells": [
    {
      "cell_type": "code",
      "metadata": {
        "colab": {
          "base_uri": "https://localhost:8080/"
        },
        "id": "pbZ2yI_UwRja",
        "outputId": "84a14575-c533-46ea-ea62-7dbaab8d0b0f"
      },
      "source": [
        "import random\n",
        "import string\n",
        "\n",
        "escolha = int(input('Escolha o tipo de sorteio: Digite (1)-Para numeros ou (2)-Para letras ou (0)-Para Zero ou Um\\n'))\n",
        "\n",
        "if escolha == 2:\n",
        "  letraaleatoria = random.choice(string.ascii_uppercase)\n",
        "  print('A letra sorteada foi: {}'.format(letraaleatoria))\n",
        "elif escolha == 0:\n",
        "  zeroouum = random.random()\n",
        "  print('Zero ou Um:{:.0f}'.format(zeroouum))\n",
        "else:\n",
        "  quantidade = int(input('Qual quantidade de números para o sorteiro?'))\n",
        "  numeroaleatorio = random.randrange(1, quantidade)\n",
        "  print('O número sorteado foi: {}'.format(numeroaleatorio))\n",
        "\n",
        "\n",
        "\n"
      ],
      "execution_count": 2,
      "outputs": [
        {
          "output_type": "stream",
          "name": "stdout",
          "text": [
            "Escolha o tipo de sorteio: Digite (1)-Para numeros ou (2)-Para letras ou (0)-Para Zero ou Um\n",
            "0\n",
            "Zero ou Um:1\n"
          ]
        }
      ]
    }
  ]
}